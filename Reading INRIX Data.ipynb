{
 "cells": [
  {
   "cell_type": "markdown",
   "metadata": {},
   "source": [
    "# Importing library"
   ]
  },
  {
   "cell_type": "code",
   "execution_count": null,
   "metadata": {},
   "outputs": [],
   "source": [
    "import os\n",
    "import zipfile\n",
    "import pandas as pd  \n",
    "import datetime as dt"
   ]
  },
  {
   "cell_type": "markdown",
   "metadata": {},
   "source": [
    "# Reading All files in a folder\n",
    "The following function wil read the root adress of all file is in the folder."
   ]
  },
  {
   "cell_type": "code",
   "execution_count": null,
   "metadata": {},
   "outputs": [],
   "source": [
    "def get_all_file_paths(directory):\n",
    "    file_paths = []\n",
    "\n",
    "    for root, directories, files in os.walk(directory):\n",
    "        for filename in files:\n",
    "            filepath = os.path.join(root, filename)\n",
    "            file_paths.append(filepath)\n",
    "\n",
    "    return file_paths\n",
    "#need to change for your local Folder\n",
    "Z=get_all_file_paths ('D://Reza Thesis//SegmentAccident//2 level inrix//')"
   ]
  },
  {
   "cell_type": "markdown",
   "metadata": {},
   "source": [
    "# Split .csv file in INRIX zip file to unique Segment ID for analysis\n",
    "Inrix .csv file contains several different segments data. To extract and read data for each segment independently, we will store data of each segment in CSV file. In the following code, you will directly read the zipfile without extracting it and extract each segment datain local storage. Also, the code provides dictionary which stores all the information of all segments. Payattention, you might need to change some index below, based on the your files order in your zip file. "
   ]
  },
  {
   "cell_type": "code",
   "execution_count": null,
   "metadata": {},
   "outputs": [],
   "source": [
    "dic=pd.DataFrame([])\n",
    "for x in Z:\n",
    "    y+=1\n",
    "    zfile = zipfile.ZipFile(x)\n",
    "    z=zfile.infolist()\n",
    "    #might you need chang 2\n",
    "    ifile = zfile.open(z[2])\n",
    "    df = pd.read_csv(zfile.open(ifile.name))\n",
    "    dic=dic.append(df)\n",
    "    #might you need chang 1\n",
    "    ifile = zfile.open(z[1])\n",
    "    df = pd.read_csv(zfile.open(ifile.name))\n",
    "    for i in list(df['Segment ID'].unique()):\n",
    "        df[df['Segment ID']==i].to_csv(str(i)+'.csv',index=False)\n",
    "        \n",
    "        \n",
    "    #this line helps system to save memory when running code\n",
    "    df=df.head(5)\n",
    "\n"
   ]
  },
  {
   "cell_type": "markdown",
   "metadata": {},
   "source": [
    "# Slicing Inrix data based on the specific time and data"
   ]
  },
  {
   "cell_type": "code",
   "execution_count": null,
   "metadata": {},
   "outputs": [],
   "source": [
    "List= #all data stored in Dictionary\n",
    "for i in List:\n",
    "    df = pd.read_csv(\"D:\\\\Reza Thesis\\\\SegmentAccident\\\\DOWNTOWN\\\\\"+ str(i)+'.csv')\n",
    "    df[\"Date Time\"]=df[\"Date Time\"].str.split(\":00-\", n = 0, expand = True)\n",
    "    df['Date Time']=pd.to_datetime(df['Date Time'], format= '%Y-%m-%dT%H:%M')\n",
    "    df=df[df['Date Time']>pd.Timestamp('2018-04-01T12')]\n",
    "    df=df[(df['Date Time'].dt.hour<22) & (df['Date Time'].dt.hour>5)]\n",
    "    df=df.sort_values(['Date Time'])\n",
    "    df.to_csv(\"D:\\\\Reza Thesis\\\\SegmentAccident\\\\Link after 2018 with time between 6 to 21\\\\\"+ str(i)+'.csv')"
   ]
  }
 ],
 "metadata": {
  "kernelspec": {
   "display_name": "Python 3",
   "language": "python",
   "name": "python3"
  },
  "language_info": {
   "codemirror_mode": {
    "name": "ipython",
    "version": 3
   },
   "file_extension": ".py",
   "mimetype": "text/x-python",
   "name": "python",
   "nbconvert_exporter": "python",
   "pygments_lexer": "ipython3",
   "version": "3.7.4"
  }
 },
 "nbformat": 4,
 "nbformat_minor": 4
}
